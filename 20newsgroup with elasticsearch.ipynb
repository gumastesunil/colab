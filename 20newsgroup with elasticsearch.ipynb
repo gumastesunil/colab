{
 "cells": [
  {
   "cell_type": "code",
   "execution_count": 1,
   "metadata": {},
   "outputs": [],
   "source": [
    "import numpy as np\n",
    "import random\n",
    "import json\n",
    "import pandas as pd\n",
    "import matplotlib.pyplot as plt"
   ]
  },
  {
   "cell_type": "code",
   "execution_count": 2,
   "metadata": {},
   "outputs": [],
   "source": [
    "from sklearn.datasets import fetch_20newsgroups\n",
    "from sklearn.metrics import accuracy_score\n",
    "from sklearn.metrics import confusion_matrix\n",
    "from sklearn.utils.multiclass import unique_labels"
   ]
  },
  {
   "cell_type": "code",
   "execution_count": 3,
   "metadata": {},
   "outputs": [],
   "source": [
    "from elasticsearch import Elasticsearch\n",
    "from elasticsearch.client import CatClient\n",
    "from elasticsearch.client import IndicesClient\n",
    "from elasticsearch.helpers import bulk"
   ]
  },
  {
   "cell_type": "markdown",
   "metadata": {},
   "source": [
    "- Fetch data"
   ]
  },
  {
   "cell_type": "raw",
   "metadata": {},
   "source": [
    "0  : alt.atheism             1 : comp.graphics            2 : comp.os.ms-windows.misc   3 : comp.sys.ibm.pc.hardware\n",
    "4  : comp.sys.mac.hardware   5 : comp.windows.x           6 : misc.forsale              7 : rec.autos\n",
    "8  : rec.motorcycles         9 : rec.sport.baseball      10 : rec.sport.hockey         11 : sci.crypt\n",
    "12 : sci.electronics         13 : sci.med                14 : sci.space                15 : soc.religion.christian\n",
    "16 : talk.politics.guns      17 : talk.politics.mideast  18 : talk.politics.misc\n",
    "19 : talk.religion.misc"
   ]
  },
  {
   "cell_type": "code",
   "execution_count": 4,
   "metadata": {},
   "outputs": [],
   "source": [
    "train = fetch_20newsgroups(subset='train', \n",
    "                           random_state=42, \n",
    "                           categories=['rec.sport.hockey','sci.med'],\n",
    "                           remove=('headers', 'footers', 'quotes'))"
   ]
  },
  {
   "cell_type": "code",
   "execution_count": 5,
   "metadata": {},
   "outputs": [],
   "source": [
    "test = fetch_20newsgroups(subset='test', \n",
    "                          random_state=42, \n",
    "                          categories=['rec.sport.hockey','sci.med'],\n",
    "                          remove=('headers', 'footers', 'quotes'))"
   ]
  },
  {
   "cell_type": "code",
   "execution_count": 6,
   "metadata": {},
   "outputs": [],
   "source": [
    "data = [[text,target] for text,target in zip(train.data, train.target)]\n",
    "train_df = pd.DataFrame(columns=['text','target'], data=data)"
   ]
  },
  {
   "cell_type": "code",
   "execution_count": 7,
   "metadata": {},
   "outputs": [],
   "source": [
    "data = [[text,target] for text,target in zip(test.data, train.target)]\n",
    "test_df = pd.DataFrame(columns=['text','target'], data=data)"
   ]
  },
  {
   "cell_type": "markdown",
   "metadata": {},
   "source": [
    "- Preprocess text"
   ]
  },
  {
   "cell_type": "code",
   "execution_count": 8,
   "metadata": {},
   "outputs": [],
   "source": [
    "# Remove punctuation characters\n",
    "train_df['text'] = train_df['text'].str.replace('[^a-zA-Z0-9.-]+',' ')\n",
    "train_df['text'] = train_df['text'].str.replace('[-]+','-')\n",
    "train_df['text'] = train_df['text'].apply(lambda x: x.lower())\n",
    "\n",
    "test_df['text'] = test_df['text'].str.replace('[^a-zA-Z0-9.-]+',' ')\n",
    "test_df['text'] = test_df['text'].str.replace('[-]+','-')\n",
    "test_df['text'] = test_df['text'].apply(lambda x: x.lower())"
   ]
  },
  {
   "cell_type": "markdown",
   "metadata": {},
   "source": [
    "- Save dataframe as a json file"
   ]
  },
  {
   "cell_type": "code",
   "execution_count": 9,
   "metadata": {},
   "outputs": [],
   "source": [
    "# save the dataframe to a json format\n",
    "train_df.to_json('train_file.json',orient='records', lines=True)\n",
    "test_df.to_json('test_file.json',orient='records', lines=True)"
   ]
  },
  {
   "cell_type": "markdown",
   "metadata": {},
   "source": [
    "- open a connection to elasticsearch\n",
    "- index the contents of json file"
   ]
  },
  {
   "cell_type": "code",
   "execution_count": 10,
   "metadata": {},
   "outputs": [],
   "source": [
    "elastic_db = Elasticsearch(['localhost:9200'])\n",
    "indices_client = IndicesClient(elastic_db)\n",
    "cat_client = CatClient(elastic_db)\n",
    "es_index_name = '20newsgroup'"
   ]
  },
  {
   "cell_type": "code",
   "execution_count": 11,
   "metadata": {},
   "outputs": [
    {
     "name": "stdout",
     "output_type": "stream",
     "text": [
      "health status index                uuid                   pri rep docs.count docs.deleted store.size pri.store.size\n",
      "green  open   .kibana_1            ivC4RJfYT1G83FexxOBJnA   1   0          6            0     35.2kb         35.2kb\n",
      "yellow open   my_index             YL2Go-f1QVmqw3RUzkBuhA   1   1          0            0       283b           283b\n",
      "green  open   .kibana_task_manager mSVLNTzUT_KZVklF1c9X6Q   1   0          2            0     53.7kb         53.7kb\n",
      "yellow open   20newsgroup          3ukDcjh9RN696kWfdOiY2Q   1   1       1194            0      1.1mb          1.1mb\n",
      "yellow open   ai_coe_hackathon     f20w6aIAQ7Cma819FO23YA   1   1      17038            0     43.3mb         43.3mb\n",
      "\n"
     ]
    }
   ],
   "source": [
    "# To view the indices on Elastisearch:\n",
    "print(cat_client.indices(v=True))"
   ]
  },
  {
   "cell_type": "code",
   "execution_count": 12,
   "metadata": {},
   "outputs": [
    {
     "name": "stdout",
     "output_type": "stream",
     "text": [
      "{'acknowledged': True}\n"
     ]
    }
   ],
   "source": [
    "# Delete the index. Will recreate the index.\n",
    "response = indices_client.delete(index=es_index_name, ignore_unavailable=True)\n",
    "print(response)"
   ]
  },
  {
   "cell_type": "code",
   "execution_count": 13,
   "metadata": {},
   "outputs": [
    {
     "name": "stdout",
     "output_type": "stream",
     "text": [
      "health status index                uuid                   pri rep docs.count docs.deleted store.size pri.store.size\n",
      "green  open   .kibana_1            ivC4RJfYT1G83FexxOBJnA   1   0          6            0     35.2kb         35.2kb\n",
      "yellow open   my_index             YL2Go-f1QVmqw3RUzkBuhA   1   1          0            0       283b           283b\n",
      "green  open   .kibana_task_manager mSVLNTzUT_KZVklF1c9X6Q   1   0          2            0     53.7kb         53.7kb\n",
      "yellow open   ai_coe_hackathon     f20w6aIAQ7Cma819FO23YA   1   1      17038            0     43.3mb         43.3mb\n",
      "\n"
     ]
    }
   ],
   "source": [
    "# To view the indices on Elastisearch:\n",
    "print(cat_client.indices(v=True))"
   ]
  },
  {
   "cell_type": "code",
   "execution_count": 14,
   "metadata": {},
   "outputs": [
    {
     "name": "stdout",
     "output_type": "stream",
     "text": [
      "{'acknowledged': True, 'shards_acknowledged': True, 'index': '20newsgroup'}\n"
     ]
    }
   ],
   "source": [
    "# Create the index\n",
    "index_settings = {\n",
    "    \"settings\": {\n",
    "        \"analysis\": {\n",
    "            \"analyzer\": {\n",
    "                \"custom_standard_analyzer\": {\n",
    "                    \"type\": \"standard\",                    \n",
    "                    \"stopwords\": \"_english_\"\n",
    "                }\n",
    "            }\n",
    "        }\n",
    "    },\n",
    "    \"mappings\": {\n",
    "        \"properties\": {\n",
    "            \"text\": {\n",
    "                \"type\": \"text\",\n",
    "                \"analyzer\": \"custom_standard_analyzer\",\n",
    "                \"search_analyzer\": \"custom_standard_analyzer\",\n",
    "                \"index_options\": \"docs\",\n",
    "                \"norms\": False\n",
    "            }\n",
    "        }\n",
    "    }\n",
    "}\n",
    "\n",
    "response = indices_client.create(index=es_index_name, body=index_settings)\n",
    "print(response)"
   ]
  },
  {
   "cell_type": "code",
   "execution_count": 15,
   "metadata": {},
   "outputs": [],
   "source": [
    "# Generator function to provide data to index into Elasticsearch\n",
    "def gendata():\n",
    "    with open('train_file.json','r') as f:\n",
    "        for idx,line in enumerate(f):\n",
    "            obj = json.loads(line)\n",
    "            data = {\n",
    "                '_index': es_index_name,                \n",
    "                '_id': idx,\n",
    "                'text': obj['text'],\n",
    "                'target': obj['target']                \n",
    "            }            \n",
    "            yield data"
   ]
  },
  {
   "cell_type": "code",
   "execution_count": 16,
   "metadata": {},
   "outputs": [
    {
     "name": "stdout",
     "output_type": "stream",
     "text": [
      "(1194, [])\n"
     ]
    }
   ],
   "source": [
    "# load all the documents into elasticsearch\n",
    "response = bulk(client=elastic_db, actions=gendata(),stats_only=False)\n",
    "print(response)"
   ]
  },
  {
   "cell_type": "code",
   "execution_count": 17,
   "metadata": {},
   "outputs": [
    {
     "name": "stdout",
     "output_type": "stream",
     "text": [
      "health status index                uuid                   pri rep docs.count docs.deleted store.size pri.store.size\n",
      "green  open   .kibana_1            ivC4RJfYT1G83FexxOBJnA   1   0          6            0     35.2kb         35.2kb\n",
      "yellow open   my_index             YL2Go-f1QVmqw3RUzkBuhA   1   1          0            0       283b           283b\n",
      "yellow open   20newsgroup          oKa7jmJGQOyQqlGV2pZcdA   1   1       1194            0      1.1mb          1.1mb\n",
      "green  open   .kibana_task_manager mSVLNTzUT_KZVklF1c9X6Q   1   0          2            0     53.7kb         53.7kb\n",
      "yellow open   ai_coe_hackathon     f20w6aIAQ7Cma819FO23YA   1   1      17038            0     43.3mb         43.3mb\n",
      "\n"
     ]
    }
   ],
   "source": [
    "# To view the indices on Elastisearch:\n",
    "print(cat_client.indices(v=True))"
   ]
  },
  {
   "cell_type": "markdown",
   "metadata": {},
   "source": [
    "- query document"
   ]
  },
  {
   "cell_type": "code",
   "execution_count": 18,
   "metadata": {},
   "outputs": [],
   "source": [
    "def get_best_match_from_es(text_msg=''):\n",
    "    # Query    \n",
    "    sch_body = \\\n",
    "    {\n",
    "        \"query\": {\n",
    "            \"match\" : {\n",
    "                \"text\" : text_msg\n",
    "            }\n",
    "        }\n",
    "    }\n",
    "    \n",
    "    response = elastic_db.search(index=es_index_name, body=sch_body, \n",
    "                                 _source=True, _source_includes=['target'], \n",
    "                                 explain=False,\n",
    "                                 search_type='dfs_query_then_fetch',\n",
    "                                 size=1)\n",
    "    \n",
    "    if not response['hits']['hits']:         # if there are no matches\n",
    "        label = random.choice(train.target)  # return a random choice\n",
    "    else:\n",
    "        label = response['hits']['hits'][0]['_source']['target']\n",
    "    return label"
   ]
  },
  {
   "cell_type": "code",
   "execution_count": 19,
   "metadata": {},
   "outputs": [],
   "source": [
    "# Get predictions ontest data\n",
    "y_true = []\n",
    "y_pred = []\n",
    "\n",
    "with open('test_file.json','r') as f:\n",
    "    for line in f:\n",
    "        data = json.loads(line)\n",
    "        response = get_best_match_from_es(data['text'][0:2048])\n",
    "        y_true.extend([data['target']])\n",
    "        y_pred.extend([response])\n",
    "    # end for\n",
    "# end with"
   ]
  },
  {
   "cell_type": "code",
   "execution_count": 20,
   "metadata": {},
   "outputs": [],
   "source": [
    "def plot_confusion_matrix(y_true, y_pred, classes,\n",
    "                          normalize=False,\n",
    "                          title=None,\n",
    "                          cmap=plt.cm.Blues):\n",
    "    \"\"\"\n",
    "    This function prints and plots the confusion matrix.\n",
    "    Normalization can be applied by setting `normalize=True`.\n",
    "    \"\"\"\n",
    "    if not title:\n",
    "        if normalize:\n",
    "            title = 'Normalized confusion matrix'\n",
    "        else:\n",
    "            title = 'Confusion matrix, without normalization'\n",
    "\n",
    "    # Compute confusion matrix\n",
    "    cm = confusion_matrix(y_true, y_pred)\n",
    "    # Only use the labels that appear in the data\n",
    "    classes = classes[unique_labels(y_true, y_pred)]\n",
    "    if normalize:\n",
    "        cm = cm.astype('float') / cm.sum(axis=1)[:, np.newaxis]\n",
    "        print(\"Normalized confusion matrix\")\n",
    "    else:\n",
    "        print('Confusion matrix, without normalization')\n",
    "\n",
    "    # print(cm)\n",
    "\n",
    "    fig, ax = plt.subplots(figsize=(15,10))\n",
    "    im = ax.imshow(cm, interpolation='nearest', cmap=cmap)\n",
    "    ax.figure.colorbar(im, ax=ax)\n",
    "    # We want to show all ticks...\n",
    "    ax.set(xticks=np.arange(cm.shape[1]),\n",
    "           yticks=np.arange(cm.shape[0]),\n",
    "           # ... and label them with the respective list entries\n",
    "           xticklabels=classes, yticklabels=classes,\n",
    "           title=title,\n",
    "           ylabel='True label',\n",
    "           xlabel='Predicted label')\n",
    "\n",
    "    # Rotate the tick labels and set their alignment.\n",
    "    plt.setp(ax.get_xticklabels(), rotation=45, ha=\"right\",\n",
    "             rotation_mode=\"anchor\")\n",
    "\n",
    "    # Loop over data dimensions and create text annotations.\n",
    "    fmt = '.2f' if normalize else 'd'\n",
    "    thresh = cm.max() / 2.\n",
    "    for i in range(cm.shape[0]):\n",
    "        for j in range(cm.shape[1]):\n",
    "            ax.text(j, i, format(cm[i, j], fmt),\n",
    "                    ha=\"center\", va=\"center\",\n",
    "                    color=\"white\" if cm[i, j] > thresh else \"black\")\n",
    "    fig.tight_layout()\n",
    "    return ax"
   ]
  },
  {
   "cell_type": "code",
   "execution_count": 21,
   "metadata": {},
   "outputs": [],
   "source": [
    "class_names = np.array(train.target_names)"
   ]
  },
  {
   "cell_type": "code",
   "execution_count": 22,
   "metadata": {},
   "outputs": [
    {
     "name": "stdout",
     "output_type": "stream",
     "text": [
      "Confusion matrix, without normalization\n"
     ]
    },
    {
     "data": {
      "image/png": "[encoded data removed]",
      "text/plain": [
       "<Figure size 1080x720 with 2 Axes>"
      ]
     },
     "metadata": {
      "needs_background": "light"
     },
     "output_type": "display_data"
    }
   ],
   "source": [
    "# Plot non-normalized confusion matrix\n",
    "plot_confusion_matrix(y_true, y_pred, classes=class_names,\n",
    "                      title='Confusion matrix, without normalization')\n",
    "plt.show()"
   ]
  },
  {
   "cell_type": "code",
   "execution_count": 23,
   "metadata": {},
   "outputs": [
    {
     "name": "stdout",
     "output_type": "stream",
     "text": [
      "Normalized confusion matrix\n"
     ]
    },
    {
     "data": {
      "image/png": "[encoded data removed]",
      "text/plain": [
       "<Figure size 1080x720 with 2 Axes>"
      ]
     },
     "metadata": {
      "needs_background": "light"
     },
     "output_type": "display_data"
    }
   ],
   "source": [
    "# Plot normalized confusion matrix\n",
    "plot_confusion_matrix(y_true, y_pred, classes=class_names, normalize=True,\n",
    "                      title='Normalized confusion matrix')\n",
    "plt.show()"
   ]
  },
  {
   "cell_type": "code",
   "execution_count": 24,
   "metadata": {},
   "outputs": [
    {
     "name": "stdout",
     "output_type": "stream",
     "text": [
      "Accuracy score: 0.5144654088050314\n"
     ]
    }
   ],
   "source": [
    "print('Accuracy score: {}'.format(accuracy_score(y_true, y_pred)))"
   ]
  }
 ],
 "metadata": {
  "kernelspec": {
   "display_name": "Python [conda env:fast] *",
   "language": "python",
   "name": "conda-env-fast-py"
  },
  "language_info": {
   "codemirror_mode": {
    "name": "ipython",
    "version": 3
   },
   "file_extension": ".py",
   "mimetype": "text/x-python",
   "name": "python",
   "nbconvert_exporter": "python",
   "pygments_lexer": "ipython3",
   "version": "3.7.3"
  }
 },
 "nbformat": 4,
 "nbformat_minor": 2
}
